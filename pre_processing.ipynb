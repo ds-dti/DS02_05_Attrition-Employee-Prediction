{
  "nbformat": 4,
  "nbformat_minor": 0,
  "metadata": {
    "colab": {
      "name": "pre-processing.ipynb",
      "provenance": [],
      "authorship_tag": "ABX9TyN0LkonmJxkiksenidNIPSZ",
      "include_colab_link": true
    },
    "kernelspec": {
      "name": "python3",
      "display_name": "Python 3"
    }
  },
  "cells": [
    {
      "cell_type": "markdown",
      "metadata": {
        "id": "view-in-github",
        "colab_type": "text"
      },
      "source": [
        "<a href=\"https://colab.research.google.com/github/usugunawan15/Tubes-DTI/blob/main/pre_processing.ipynb\" target=\"_parent\"><img src=\"https://colab.research.google.com/assets/colab-badge.svg\" alt=\"Open In Colab\"/></a>"
      ]
    },
    {
      "cell_type": "code",
      "metadata": {
        "id": "y1eyRLDuIc6y"
      },
      "source": [
        "# Import libraries\r\n",
        "import pandas as pd\r\n",
        "import numpy as np\r\n",
        "import warnings\r\n",
        "import seaborn as sns\r\n",
        "import matplotlib.pyplot as plt\r\n",
        "# Configure libraries\r\n",
        "warnings.filterwarnings('ignore')\r\n",
        "plt.rcParams['figure.figsize'] = (10, 10)\r\n",
        "plt.style.use('seaborn')\r\n"
      ],
      "execution_count": 1,
      "outputs": []
    },
    {
      "cell_type": "code",
      "metadata": {
        "colab": {
          "base_uri": "https://localhost:8080/",
          "height": 442
        },
        "id": "v37DH4tZI1Os",
        "outputId": "c171e448-f463-4ae3-c8dd-0640b1a4d94f"
      },
      "source": [
        "df = pd.read_csv('https://raw.githubusercontent.com/usugunawan15/Tubes-DTI/main/dataset_donor_darah.csv', sep = ';')\r\n",
        "print('Shape of dataframe:', df.shape)\r\n",
        "df"
      ],
      "execution_count": 4,
      "outputs": [
        {
          "output_type": "stream",
          "text": [
            "Shape of dataframe: (25824, 6)\n"
          ],
          "name": "stdout"
        },
        {
          "output_type": "execute_result",
          "data": {
            "text/html": [
              "<div>\n",
              "<style scoped>\n",
              "    .dataframe tbody tr th:only-of-type {\n",
              "        vertical-align: middle;\n",
              "    }\n",
              "\n",
              "    .dataframe tbody tr th {\n",
              "        vertical-align: top;\n",
              "    }\n",
              "\n",
              "    .dataframe thead th {\n",
              "        text-align: right;\n",
              "    }\n",
              "</style>\n",
              "<table border=\"1\" class=\"dataframe\">\n",
              "  <thead>\n",
              "    <tr style=\"text-align: right;\">\n",
              "      <th></th>\n",
              "      <th>ID</th>\n",
              "      <th>Nama</th>\n",
              "      <th>Umur</th>\n",
              "      <th>Gol (Rh)</th>\n",
              "      <th>JK</th>\n",
              "      <th>Frekuensi</th>\n",
              "    </tr>\n",
              "  </thead>\n",
              "  <tbody>\n",
              "    <tr>\n",
              "      <th>0</th>\n",
              "      <td>6171DGRUD000091</td>\n",
              "      <td>Rudi Wardani</td>\n",
              "      <td>48</td>\n",
              "      <td>A+</td>\n",
              "      <td>Pria</td>\n",
              "      <td>4</td>\n",
              "    </tr>\n",
              "    <tr>\n",
              "      <th>1</th>\n",
              "      <td>6171DGMUH000223</td>\n",
              "      <td>Muhammad Isya Maulana</td>\n",
              "      <td>41</td>\n",
              "      <td>O+</td>\n",
              "      <td>Pria</td>\n",
              "      <td>3</td>\n",
              "    </tr>\n",
              "    <tr>\n",
              "      <th>2</th>\n",
              "      <td>6171M1RUS000015</td>\n",
              "      <td>Rustandi</td>\n",
              "      <td>35</td>\n",
              "      <td>O+</td>\n",
              "      <td>Pria</td>\n",
              "      <td>10</td>\n",
              "    </tr>\n",
              "    <tr>\n",
              "      <th>3</th>\n",
              "      <td>6171DGSAR000059</td>\n",
              "      <td>Sarzuni</td>\n",
              "      <td>44</td>\n",
              "      <td>B+</td>\n",
              "      <td>Pria</td>\n",
              "      <td>3</td>\n",
              "    </tr>\n",
              "    <tr>\n",
              "      <th>4</th>\n",
              "      <td>6171DGSYI000009</td>\n",
              "      <td>Syihab Ahmad</td>\n",
              "      <td>30</td>\n",
              "      <td>AB+</td>\n",
              "      <td>Pria</td>\n",
              "      <td>20</td>\n",
              "    </tr>\n",
              "    <tr>\n",
              "      <th>...</th>\n",
              "      <td>...</td>\n",
              "      <td>...</td>\n",
              "      <td>...</td>\n",
              "      <td>...</td>\n",
              "      <td>...</td>\n",
              "      <td>...</td>\n",
              "    </tr>\n",
              "    <tr>\n",
              "      <th>25819</th>\n",
              "      <td>6171DGARM000012</td>\n",
              "      <td>Armen</td>\n",
              "      <td>43</td>\n",
              "      <td>A+</td>\n",
              "      <td>Pria</td>\n",
              "      <td>2</td>\n",
              "    </tr>\n",
              "    <tr>\n",
              "      <th>25820</th>\n",
              "      <td>6171DGAPR000026</td>\n",
              "      <td>Apriyadi Riyanto</td>\n",
              "      <td>38</td>\n",
              "      <td>B+</td>\n",
              "      <td>Pria</td>\n",
              "      <td>5</td>\n",
              "    </tr>\n",
              "    <tr>\n",
              "      <th>25821</th>\n",
              "      <td>6171M2EMI000010</td>\n",
              "      <td>EMI SAFITRI</td>\n",
              "      <td>36</td>\n",
              "      <td>O+</td>\n",
              "      <td>Wanita</td>\n",
              "      <td>2</td>\n",
              "    </tr>\n",
              "    <tr>\n",
              "      <th>25822</th>\n",
              "      <td>6171M3RID000005</td>\n",
              "      <td>RIDWAN</td>\n",
              "      <td>36</td>\n",
              "      <td>A+</td>\n",
              "      <td>Pria</td>\n",
              "      <td>1</td>\n",
              "    </tr>\n",
              "    <tr>\n",
              "      <th>25823</th>\n",
              "      <td>6171M1SUP000013</td>\n",
              "      <td>Supar</td>\n",
              "      <td>43</td>\n",
              "      <td>O+</td>\n",
              "      <td>Pria</td>\n",
              "      <td>17</td>\n",
              "    </tr>\n",
              "  </tbody>\n",
              "</table>\n",
              "<p>25824 rows × 6 columns</p>\n",
              "</div>"
            ],
            "text/plain": [
              "                    ID                   Nama  Umur Gol (Rh)      JK  Frekuensi\n",
              "0      6171DGRUD000091           Rudi Wardani    48       A+    Pria          4\n",
              "1      6171DGMUH000223  Muhammad Isya Maulana    41       O+    Pria          3\n",
              "2      6171M1RUS000015               Rustandi    35       O+    Pria         10\n",
              "3      6171DGSAR000059                Sarzuni    44       B+    Pria          3\n",
              "4      6171DGSYI000009           Syihab Ahmad    30      AB+    Pria         20\n",
              "...                ...                    ...   ...      ...     ...        ...\n",
              "25819  6171DGARM000012                  Armen    43       A+    Pria          2\n",
              "25820  6171DGAPR000026       Apriyadi Riyanto    38       B+    Pria          5\n",
              "25821  6171M2EMI000010            EMI SAFITRI    36       O+  Wanita          2\n",
              "25822  6171M3RID000005                 RIDWAN    36       A+    Pria          1\n",
              "25823  6171M1SUP000013                  Supar    43       O+    Pria         17\n",
              "\n",
              "[25824 rows x 6 columns]"
            ]
          },
          "metadata": {
            "tags": []
          },
          "execution_count": 4
        }
      ]
    },
    {
      "cell_type": "code",
      "metadata": {
        "colab": {
          "base_uri": "https://localhost:8080/"
        },
        "id": "08FheIkIL630",
        "outputId": "eaf57db3-3998-4aa0-b27c-7b5574999c2b"
      },
      "source": [
        "df['Gol (Rh)'].value_counts()"
      ],
      "execution_count": 5,
      "outputs": [
        {
          "output_type": "execute_result",
          "data": {
            "text/plain": [
              "O+     10122\n",
              "B+      7423\n",
              "A+      6319\n",
              "AB+     1934\n",
              "X+         9\n",
              "A-         7\n",
              "O-         7\n",
              "AB-        2\n",
              "B-         1\n",
              "Name: Gol (Rh), dtype: int64"
            ]
          },
          "metadata": {
            "tags": []
          },
          "execution_count": 5
        }
      ]
    },
    {
      "cell_type": "code",
      "metadata": {
        "colab": {
          "base_uri": "https://localhost:8080/"
        },
        "id": "EGDOjUFXvDwJ",
        "outputId": "bce0bdc7-af27-48ee-f773-d880737d42e8"
      },
      "source": [
        "df.info()"
      ],
      "execution_count": 19,
      "outputs": [
        {
          "output_type": "stream",
          "text": [
            "<class 'pandas.core.frame.DataFrame'>\n",
            "RangeIndex: 25824 entries, 0 to 25823\n",
            "Data columns (total 5 columns):\n",
            " #   Column     Non-Null Count  Dtype \n",
            "---  ------     --------------  ----- \n",
            " 0   Nama       25817 non-null  object\n",
            " 1   Umur       25824 non-null  int64 \n",
            " 2   Gol (Rh)   25824 non-null  object\n",
            " 3   JK         25824 non-null  int64 \n",
            " 4   Frekuensi  25824 non-null  int64 \n",
            "dtypes: int64(3), object(2)\n",
            "memory usage: 1008.9+ KB\n"
          ],
          "name": "stdout"
        }
      ]
    },
    {
      "cell_type": "code",
      "metadata": {
        "colab": {
          "base_uri": "https://localhost:8080/"
        },
        "id": "bhLLmAERMEoZ",
        "outputId": "c1eb2b42-3a5c-4083-c789-0bb9da83bcca"
      },
      "source": [
        "df.isnull().sum()"
      ],
      "execution_count": 6,
      "outputs": [
        {
          "output_type": "execute_result",
          "data": {
            "text/plain": [
              "ID           0\n",
              "Nama         7\n",
              "Umur         0\n",
              "Gol (Rh)     0\n",
              "JK           0\n",
              "Frekuensi    0\n",
              "dtype: int64"
            ]
          },
          "metadata": {
            "tags": []
          },
          "execution_count": 6
        }
      ]
    },
    {
      "cell_type": "code",
      "metadata": {
        "id": "AYdiIubLsfGM"
      },
      "source": [
        "df.drop(['ID'], axis=1, inplace=True)"
      ],
      "execution_count": 11,
      "outputs": []
    },
    {
      "cell_type": "code",
      "metadata": {
        "colab": {
          "base_uri": "https://localhost:8080/",
          "height": 424
        },
        "id": "Srciy23ksief",
        "outputId": "3d226751-f0bb-4360-98cb-f86f271d79a8"
      },
      "source": [
        "df"
      ],
      "execution_count": 12,
      "outputs": [
        {
          "output_type": "execute_result",
          "data": {
            "text/html": [
              "<div>\n",
              "<style scoped>\n",
              "    .dataframe tbody tr th:only-of-type {\n",
              "        vertical-align: middle;\n",
              "    }\n",
              "\n",
              "    .dataframe tbody tr th {\n",
              "        vertical-align: top;\n",
              "    }\n",
              "\n",
              "    .dataframe thead th {\n",
              "        text-align: right;\n",
              "    }\n",
              "</style>\n",
              "<table border=\"1\" class=\"dataframe\">\n",
              "  <thead>\n",
              "    <tr style=\"text-align: right;\">\n",
              "      <th></th>\n",
              "      <th>Nama</th>\n",
              "      <th>Umur</th>\n",
              "      <th>Gol (Rh)</th>\n",
              "      <th>JK</th>\n",
              "      <th>Frekuensi</th>\n",
              "    </tr>\n",
              "  </thead>\n",
              "  <tbody>\n",
              "    <tr>\n",
              "      <th>0</th>\n",
              "      <td>Rudi Wardani</td>\n",
              "      <td>48</td>\n",
              "      <td>A+</td>\n",
              "      <td>1</td>\n",
              "      <td>4</td>\n",
              "    </tr>\n",
              "    <tr>\n",
              "      <th>1</th>\n",
              "      <td>Muhammad Isya Maulana</td>\n",
              "      <td>41</td>\n",
              "      <td>O+</td>\n",
              "      <td>1</td>\n",
              "      <td>3</td>\n",
              "    </tr>\n",
              "    <tr>\n",
              "      <th>2</th>\n",
              "      <td>Rustandi</td>\n",
              "      <td>35</td>\n",
              "      <td>O+</td>\n",
              "      <td>1</td>\n",
              "      <td>10</td>\n",
              "    </tr>\n",
              "    <tr>\n",
              "      <th>3</th>\n",
              "      <td>Sarzuni</td>\n",
              "      <td>44</td>\n",
              "      <td>B+</td>\n",
              "      <td>1</td>\n",
              "      <td>3</td>\n",
              "    </tr>\n",
              "    <tr>\n",
              "      <th>4</th>\n",
              "      <td>Syihab Ahmad</td>\n",
              "      <td>30</td>\n",
              "      <td>AB+</td>\n",
              "      <td>1</td>\n",
              "      <td>20</td>\n",
              "    </tr>\n",
              "    <tr>\n",
              "      <th>...</th>\n",
              "      <td>...</td>\n",
              "      <td>...</td>\n",
              "      <td>...</td>\n",
              "      <td>...</td>\n",
              "      <td>...</td>\n",
              "    </tr>\n",
              "    <tr>\n",
              "      <th>25819</th>\n",
              "      <td>Armen</td>\n",
              "      <td>43</td>\n",
              "      <td>A+</td>\n",
              "      <td>1</td>\n",
              "      <td>2</td>\n",
              "    </tr>\n",
              "    <tr>\n",
              "      <th>25820</th>\n",
              "      <td>Apriyadi Riyanto</td>\n",
              "      <td>38</td>\n",
              "      <td>B+</td>\n",
              "      <td>1</td>\n",
              "      <td>5</td>\n",
              "    </tr>\n",
              "    <tr>\n",
              "      <th>25821</th>\n",
              "      <td>EMI SAFITRI</td>\n",
              "      <td>36</td>\n",
              "      <td>O+</td>\n",
              "      <td>0</td>\n",
              "      <td>2</td>\n",
              "    </tr>\n",
              "    <tr>\n",
              "      <th>25822</th>\n",
              "      <td>RIDWAN</td>\n",
              "      <td>36</td>\n",
              "      <td>A+</td>\n",
              "      <td>1</td>\n",
              "      <td>1</td>\n",
              "    </tr>\n",
              "    <tr>\n",
              "      <th>25823</th>\n",
              "      <td>Supar</td>\n",
              "      <td>43</td>\n",
              "      <td>O+</td>\n",
              "      <td>1</td>\n",
              "      <td>17</td>\n",
              "    </tr>\n",
              "  </tbody>\n",
              "</table>\n",
              "<p>25824 rows × 5 columns</p>\n",
              "</div>"
            ],
            "text/plain": [
              "                        Nama  Umur Gol (Rh)  JK  Frekuensi\n",
              "0               Rudi Wardani    48       A+   1          4\n",
              "1      Muhammad Isya Maulana    41       O+   1          3\n",
              "2                   Rustandi    35       O+   1         10\n",
              "3                    Sarzuni    44       B+   1          3\n",
              "4               Syihab Ahmad    30      AB+   1         20\n",
              "...                      ...   ...      ...  ..        ...\n",
              "25819                  Armen    43       A+   1          2\n",
              "25820       Apriyadi Riyanto    38       B+   1          5\n",
              "25821            EMI SAFITRI    36       O+   0          2\n",
              "25822                 RIDWAN    36       A+   1          1\n",
              "25823                  Supar    43       O+   1         17\n",
              "\n",
              "[25824 rows x 5 columns]"
            ]
          },
          "metadata": {
            "tags": []
          },
          "execution_count": 12
        }
      ]
    },
    {
      "cell_type": "code",
      "metadata": {
        "colab": {
          "base_uri": "https://localhost:8080/",
          "height": 432
        },
        "id": "YFRh4JR_MJ56",
        "outputId": "f1bcd15d-7567-4ac7-86ac-338f7a683a78"
      },
      "source": [
        "corrMatrix = df.corr()\r\n",
        "plt.figure(figsize=(10,7))\r\n",
        "sns.heatmap(corrMatrix, annot=True)\r\n",
        "plt.show()"
      ],
      "execution_count": 28,
      "outputs": [
        {
          "output_type": "display_data",
          "data": {
            "image/png": "[encoded data removed]",
            "text/plain": [
              "<Figure size 720x504 with 2 Axes>"
            ]
          },
          "metadata": {
            "tags": [],
            "needs_background": "light"
          }
        }
      ]
    },
    {
      "cell_type": "code",
      "metadata": {
        "colab": {
          "base_uri": "https://localhost:8080/",
          "height": 143
        },
        "id": "gZBhr9MlMUV8",
        "outputId": "be7c2769-3e87-4035-cc65-be7529c0ad56"
      },
      "source": [
        "df.corr()"
      ],
      "execution_count": 17,
      "outputs": [
        {
          "output_type": "execute_result",
          "data": {
            "text/html": [
              "<div>\n",
              "<style scoped>\n",
              "    .dataframe tbody tr th:only-of-type {\n",
              "        vertical-align: middle;\n",
              "    }\n",
              "\n",
              "    .dataframe tbody tr th {\n",
              "        vertical-align: top;\n",
              "    }\n",
              "\n",
              "    .dataframe thead th {\n",
              "        text-align: right;\n",
              "    }\n",
              "</style>\n",
              "<table border=\"1\" class=\"dataframe\">\n",
              "  <thead>\n",
              "    <tr style=\"text-align: right;\">\n",
              "      <th></th>\n",
              "      <th>Umur</th>\n",
              "      <th>JK</th>\n",
              "      <th>Frekuensi</th>\n",
              "    </tr>\n",
              "  </thead>\n",
              "  <tbody>\n",
              "    <tr>\n",
              "      <th>Umur</th>\n",
              "      <td>1.000000</td>\n",
              "      <td>0.046899</td>\n",
              "      <td>0.131498</td>\n",
              "    </tr>\n",
              "    <tr>\n",
              "      <th>JK</th>\n",
              "      <td>0.046899</td>\n",
              "      <td>1.000000</td>\n",
              "      <td>0.179116</td>\n",
              "    </tr>\n",
              "    <tr>\n",
              "      <th>Frekuensi</th>\n",
              "      <td>0.131498</td>\n",
              "      <td>0.179116</td>\n",
              "      <td>1.000000</td>\n",
              "    </tr>\n",
              "  </tbody>\n",
              "</table>\n",
              "</div>"
            ],
            "text/plain": [
              "               Umur        JK  Frekuensi\n",
              "Umur       1.000000  0.046899   0.131498\n",
              "JK         0.046899  1.000000   0.179116\n",
              "Frekuensi  0.131498  0.179116   1.000000"
            ]
          },
          "metadata": {
            "tags": []
          },
          "execution_count": 17
        }
      ]
    },
    {
      "cell_type": "code",
      "metadata": {
        "colab": {
          "base_uri": "https://localhost:8080/",
          "height": 424
        },
        "id": "1T0hHgHhwDJx",
        "outputId": "185cba65-7eae-464b-81d5-c3baebae6a1e"
      },
      "source": [
        "x = df.drop([\"JK\"], axis = 1)\r\n",
        "x"
      ],
      "execution_count": 24,
      "outputs": [
        {
          "output_type": "execute_result",
          "data": {
            "text/html": [
              "<div>\n",
              "<style scoped>\n",
              "    .dataframe tbody tr th:only-of-type {\n",
              "        vertical-align: middle;\n",
              "    }\n",
              "\n",
              "    .dataframe tbody tr th {\n",
              "        vertical-align: top;\n",
              "    }\n",
              "\n",
              "    .dataframe thead th {\n",
              "        text-align: right;\n",
              "    }\n",
              "</style>\n",
              "<table border=\"1\" class=\"dataframe\">\n",
              "  <thead>\n",
              "    <tr style=\"text-align: right;\">\n",
              "      <th></th>\n",
              "      <th>Nama</th>\n",
              "      <th>Umur</th>\n",
              "      <th>Gol (Rh)</th>\n",
              "      <th>Frekuensi</th>\n",
              "    </tr>\n",
              "  </thead>\n",
              "  <tbody>\n",
              "    <tr>\n",
              "      <th>0</th>\n",
              "      <td>Rudi Wardani</td>\n",
              "      <td>48</td>\n",
              "      <td>A+</td>\n",
              "      <td>4</td>\n",
              "    </tr>\n",
              "    <tr>\n",
              "      <th>1</th>\n",
              "      <td>Muhammad Isya Maulana</td>\n",
              "      <td>41</td>\n",
              "      <td>O+</td>\n",
              "      <td>3</td>\n",
              "    </tr>\n",
              "    <tr>\n",
              "      <th>2</th>\n",
              "      <td>Rustandi</td>\n",
              "      <td>35</td>\n",
              "      <td>O+</td>\n",
              "      <td>10</td>\n",
              "    </tr>\n",
              "    <tr>\n",
              "      <th>3</th>\n",
              "      <td>Sarzuni</td>\n",
              "      <td>44</td>\n",
              "      <td>B+</td>\n",
              "      <td>3</td>\n",
              "    </tr>\n",
              "    <tr>\n",
              "      <th>4</th>\n",
              "      <td>Syihab Ahmad</td>\n",
              "      <td>30</td>\n",
              "      <td>AB+</td>\n",
              "      <td>20</td>\n",
              "    </tr>\n",
              "    <tr>\n",
              "      <th>...</th>\n",
              "      <td>...</td>\n",
              "      <td>...</td>\n",
              "      <td>...</td>\n",
              "      <td>...</td>\n",
              "    </tr>\n",
              "    <tr>\n",
              "      <th>25819</th>\n",
              "      <td>Armen</td>\n",
              "      <td>43</td>\n",
              "      <td>A+</td>\n",
              "      <td>2</td>\n",
              "    </tr>\n",
              "    <tr>\n",
              "      <th>25820</th>\n",
              "      <td>Apriyadi Riyanto</td>\n",
              "      <td>38</td>\n",
              "      <td>B+</td>\n",
              "      <td>5</td>\n",
              "    </tr>\n",
              "    <tr>\n",
              "      <th>25821</th>\n",
              "      <td>EMI SAFITRI</td>\n",
              "      <td>36</td>\n",
              "      <td>O+</td>\n",
              "      <td>2</td>\n",
              "    </tr>\n",
              "    <tr>\n",
              "      <th>25822</th>\n",
              "      <td>RIDWAN</td>\n",
              "      <td>36</td>\n",
              "      <td>A+</td>\n",
              "      <td>1</td>\n",
              "    </tr>\n",
              "    <tr>\n",
              "      <th>25823</th>\n",
              "      <td>Supar</td>\n",
              "      <td>43</td>\n",
              "      <td>O+</td>\n",
              "      <td>17</td>\n",
              "    </tr>\n",
              "  </tbody>\n",
              "</table>\n",
              "<p>25824 rows × 4 columns</p>\n",
              "</div>"
            ],
            "text/plain": [
              "                        Nama  Umur Gol (Rh)  Frekuensi\n",
              "0               Rudi Wardani    48       A+          4\n",
              "1      Muhammad Isya Maulana    41       O+          3\n",
              "2                   Rustandi    35       O+         10\n",
              "3                    Sarzuni    44       B+          3\n",
              "4               Syihab Ahmad    30      AB+         20\n",
              "...                      ...   ...      ...        ...\n",
              "25819                  Armen    43       A+          2\n",
              "25820       Apriyadi Riyanto    38       B+          5\n",
              "25821            EMI SAFITRI    36       O+          2\n",
              "25822                 RIDWAN    36       A+          1\n",
              "25823                  Supar    43       O+         17\n",
              "\n",
              "[25824 rows x 4 columns]"
            ]
          },
          "metadata": {
            "tags": []
          },
          "execution_count": 24
        }
      ]
    },
    {
      "cell_type": "code",
      "metadata": {
        "colab": {
          "base_uri": "https://localhost:8080/"
        },
        "id": "NDXYSIO5wOT9",
        "outputId": "eb155ac7-140f-4c4b-b7bf-af090365b1dd"
      },
      "source": [
        "y = df[\"JK\"]\r\n",
        "y"
      ],
      "execution_count": 27,
      "outputs": [
        {
          "output_type": "execute_result",
          "data": {
            "text/plain": [
              "0        1\n",
              "1        1\n",
              "2        1\n",
              "3        1\n",
              "4        1\n",
              "        ..\n",
              "25819    1\n",
              "25820    1\n",
              "25821    0\n",
              "25822    1\n",
              "25823    1\n",
              "Name: JK, Length: 25824, dtype: int64"
            ]
          },
          "metadata": {
            "tags": []
          },
          "execution_count": 27
        }
      ]
    },
    {
      "cell_type": "markdown",
      "metadata": {
        "id": "DSqkROVTMd06"
      },
      "source": [
        "**Training**"
      ]
    },
    {
      "cell_type": "code",
      "metadata": {
        "colab": {
          "base_uri": "https://localhost:8080/"
        },
        "id": "VGnVSx17tYNh",
        "outputId": "5bc29fad-911c-4c68-ece8-860358defb37"
      },
      "source": [
        "# Set Training and Testing Data (70:30)\r\n",
        "from sklearn.model_selection import train_test_split, cross_val_score\r\n",
        "X_train, X_test, y_train, y_test  = train_test_split(x , y, shuffle = True, test_size=0.3, random_state=1)\r\n",
        "\r\n",
        "# Show the Training and Testing Data\r\n",
        "print(X_train.shape)\r\n",
        "print(X_test.shape)\r\n",
        "print(y_train.shape)\r\n",
        "print(y_test.shape)"
      ],
      "execution_count": 30,
      "outputs": [
        {
          "output_type": "stream",
          "text": [
            "(18076, 4)\n",
            "(7748, 4)\n",
            "(18076,)\n",
            "(7748,)\n"
          ],
          "name": "stdout"
        }
      ]
    }
  ]
}