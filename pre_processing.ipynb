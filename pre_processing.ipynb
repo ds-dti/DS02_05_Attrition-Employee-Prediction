{
  "nbformat": 4,
  "nbformat_minor": 0,
  "metadata": {
    "colab": {
      "name": "pre-processing.ipynb",
      "provenance": [],
      "authorship_tag": "ABX9TyMv0nikRk3rCPO+d/My+nzT",
      "include_colab_link": true
    },
    "kernelspec": {
      "name": "python3",
      "display_name": "Python 3"
    }
  },
  "cells": [
    {
      "cell_type": "markdown",
      "metadata": {
        "id": "view-in-github",
        "colab_type": "text"
      },
      "source": [
        "<a href=\"https://colab.research.google.com/github/usugunawan15/Tubes-DTI/blob/main/pre_processing.ipynb\" target=\"_parent\"><img src=\"https://colab.research.google.com/assets/colab-badge.svg\" alt=\"Open In Colab\"/></a>"
      ]
    },
    {
      "cell_type": "code",
      "metadata": {
        "id": "y1eyRLDuIc6y"
      },
      "source": [
        "# Import libraries\r\n",
        "import pandas as pd\r\n",
        "import numpy as np\r\n",
        "import warnings\r\n",
        "import seaborn as sns\r\n",
        "import matplotlib.pyplot as plt\r\n",
        "# Configure libraries\r\n",
        "warnings.filterwarnings('ignore')\r\n",
        "plt.rcParams['figure.figsize'] = (10, 10)\r\n",
        "plt.style.use('seaborn')\r\n"
      ],
      "execution_count": 121,
      "outputs": []
    },
    {
      "cell_type": "code",
      "metadata": {
        "colab": {
          "base_uri": "https://localhost:8080/",
          "height": 442
        },
        "id": "v37DH4tZI1Os",
        "outputId": "90d336d3-637a-4983-f2f9-1ead71a80459"
      },
      "source": [
        "df = pd.read_csv('https://raw.githubusercontent.com/usugunawan15/Tubes-DTI/main/dataset_donor_darah.csv', sep = ';')\r\n",
        "print('Shape of dataframe:', df.shape)\r\n",
        "df"
      ],
      "execution_count": 122,
      "outputs": [
        {
          "output_type": "stream",
          "text": [
            "Shape of dataframe: (25820, 6)\n"
          ],
          "name": "stdout"
        },
        {
          "output_type": "execute_result",
          "data": {
            "text/html": [
              "<div>\n",
              "<style scoped>\n",
              "    .dataframe tbody tr th:only-of-type {\n",
              "        vertical-align: middle;\n",
              "    }\n",
              "\n",
              "    .dataframe tbody tr th {\n",
              "        vertical-align: top;\n",
              "    }\n",
              "\n",
              "    .dataframe thead th {\n",
              "        text-align: right;\n",
              "    }\n",
              "</style>\n",
              "<table border=\"1\" class=\"dataframe\">\n",
              "  <thead>\n",
              "    <tr style=\"text-align: right;\">\n",
              "      <th></th>\n",
              "      <th>ID</th>\n",
              "      <th>Nama</th>\n",
              "      <th>Umur</th>\n",
              "      <th>Gol (Rh)</th>\n",
              "      <th>JK</th>\n",
              "      <th>Frekuensi</th>\n",
              "    </tr>\n",
              "  </thead>\n",
              "  <tbody>\n",
              "    <tr>\n",
              "      <th>0</th>\n",
              "      <td>6171DGRUD000091</td>\n",
              "      <td>Rudi Wardani</td>\n",
              "      <td>48</td>\n",
              "      <td>A+</td>\n",
              "      <td>Pria</td>\n",
              "      <td>4</td>\n",
              "    </tr>\n",
              "    <tr>\n",
              "      <th>1</th>\n",
              "      <td>6171DGMUH000223</td>\n",
              "      <td>Muhammad Isya Maulana</td>\n",
              "      <td>41</td>\n",
              "      <td>O+</td>\n",
              "      <td>Pria</td>\n",
              "      <td>3</td>\n",
              "    </tr>\n",
              "    <tr>\n",
              "      <th>2</th>\n",
              "      <td>6171M1RUS000015</td>\n",
              "      <td>Rustandi</td>\n",
              "      <td>35</td>\n",
              "      <td>O+</td>\n",
              "      <td>Pria</td>\n",
              "      <td>10</td>\n",
              "    </tr>\n",
              "    <tr>\n",
              "      <th>3</th>\n",
              "      <td>6171DGSAR000059</td>\n",
              "      <td>Sarzuni</td>\n",
              "      <td>44</td>\n",
              "      <td>B+</td>\n",
              "      <td>Pria</td>\n",
              "      <td>3</td>\n",
              "    </tr>\n",
              "    <tr>\n",
              "      <th>4</th>\n",
              "      <td>6171DGSYI000009</td>\n",
              "      <td>Syihab Ahmad</td>\n",
              "      <td>30</td>\n",
              "      <td>AB+</td>\n",
              "      <td>Pria</td>\n",
              "      <td>20</td>\n",
              "    </tr>\n",
              "    <tr>\n",
              "      <th>...</th>\n",
              "      <td>...</td>\n",
              "      <td>...</td>\n",
              "      <td>...</td>\n",
              "      <td>...</td>\n",
              "      <td>...</td>\n",
              "      <td>...</td>\n",
              "    </tr>\n",
              "    <tr>\n",
              "      <th>25815</th>\n",
              "      <td>6171DGARM000012</td>\n",
              "      <td>Armen</td>\n",
              "      <td>43</td>\n",
              "      <td>A+</td>\n",
              "      <td>Pria</td>\n",
              "      <td>2</td>\n",
              "    </tr>\n",
              "    <tr>\n",
              "      <th>25816</th>\n",
              "      <td>6171DGAPR000026</td>\n",
              "      <td>Apriyadi Riyanto</td>\n",
              "      <td>38</td>\n",
              "      <td>B+</td>\n",
              "      <td>Pria</td>\n",
              "      <td>5</td>\n",
              "    </tr>\n",
              "    <tr>\n",
              "      <th>25817</th>\n",
              "      <td>6171M2EMI000010</td>\n",
              "      <td>EMI SAFITRI</td>\n",
              "      <td>36</td>\n",
              "      <td>O+</td>\n",
              "      <td>Wanita</td>\n",
              "      <td>2</td>\n",
              "    </tr>\n",
              "    <tr>\n",
              "      <th>25818</th>\n",
              "      <td>6171M3RID000005</td>\n",
              "      <td>RIDWAN</td>\n",
              "      <td>36</td>\n",
              "      <td>A+</td>\n",
              "      <td>Pria</td>\n",
              "      <td>1</td>\n",
              "    </tr>\n",
              "    <tr>\n",
              "      <th>25819</th>\n",
              "      <td>6171M1SUP000013</td>\n",
              "      <td>Supar</td>\n",
              "      <td>43</td>\n",
              "      <td>O+</td>\n",
              "      <td>Pria</td>\n",
              "      <td>17</td>\n",
              "    </tr>\n",
              "  </tbody>\n",
              "</table>\n",
              "<p>25820 rows × 6 columns</p>\n",
              "</div>"
            ],
            "text/plain": [
              "                    ID                   Nama  Umur Gol (Rh)      JK  Frekuensi\n",
              "0      6171DGRUD000091           Rudi Wardani    48       A+    Pria          4\n",
              "1      6171DGMUH000223  Muhammad Isya Maulana    41       O+    Pria          3\n",
              "2      6171M1RUS000015               Rustandi    35       O+    Pria         10\n",
              "3      6171DGSAR000059                Sarzuni    44       B+    Pria          3\n",
              "4      6171DGSYI000009           Syihab Ahmad    30      AB+    Pria         20\n",
              "...                ...                    ...   ...      ...     ...        ...\n",
              "25815  6171DGARM000012                  Armen    43       A+    Pria          2\n",
              "25816  6171DGAPR000026       Apriyadi Riyanto    38       B+    Pria          5\n",
              "25817  6171M2EMI000010            EMI SAFITRI    36       O+  Wanita          2\n",
              "25818  6171M3RID000005                 RIDWAN    36       A+    Pria          1\n",
              "25819  6171M1SUP000013                  Supar    43       O+    Pria         17\n",
              "\n",
              "[25820 rows x 6 columns]"
            ]
          },
          "metadata": {
            "tags": []
          },
          "execution_count": 122
        }
      ]
    },
    {
      "cell_type": "code",
      "metadata": {
        "colab": {
          "base_uri": "https://localhost:8080/"
        },
        "id": "08FheIkIL630",
        "outputId": "3ab5c8ac-2cca-4f12-d1ba-68376c25b881"
      },
      "source": [
        "df['Gol (Rh)'].value_counts()"
      ],
      "execution_count": 123,
      "outputs": [
        {
          "output_type": "execute_result",
          "data": {
            "text/plain": [
              "O+     10122\n",
              "B+      7419\n",
              "A+      6319\n",
              "AB+     1934\n",
              "B-        10\n",
              "A-         7\n",
              "O-         7\n",
              "AB-        2\n",
              "Name: Gol (Rh), dtype: int64"
            ]
          },
          "metadata": {
            "tags": []
          },
          "execution_count": 123
        }
      ]
    },
    {
      "cell_type": "code",
      "metadata": {
        "colab": {
          "base_uri": "https://localhost:8080/"
        },
        "id": "EGDOjUFXvDwJ",
        "outputId": "d58b4f69-3a3e-4170-a70c-df1cc0c588fc"
      },
      "source": [
        "df.info()"
      ],
      "execution_count": 124,
      "outputs": [
        {
          "output_type": "stream",
          "text": [
            "<class 'pandas.core.frame.DataFrame'>\n",
            "RangeIndex: 25820 entries, 0 to 25819\n",
            "Data columns (total 6 columns):\n",
            " #   Column     Non-Null Count  Dtype \n",
            "---  ------     --------------  ----- \n",
            " 0   ID         25820 non-null  object\n",
            " 1   Nama       25813 non-null  object\n",
            " 2   Umur       25820 non-null  int64 \n",
            " 3   Gol (Rh)   25820 non-null  object\n",
            " 4   JK         25820 non-null  object\n",
            " 5   Frekuensi  25820 non-null  int64 \n",
            "dtypes: int64(2), object(4)\n",
            "memory usage: 1.2+ MB\n"
          ],
          "name": "stdout"
        }
      ]
    },
    {
      "cell_type": "code",
      "metadata": {
        "colab": {
          "base_uri": "https://localhost:8080/"
        },
        "id": "bhLLmAERMEoZ",
        "outputId": "3d9abf06-746a-4d3d-d0c0-daa091c7af5c"
      },
      "source": [
        "df.isnull().sum()"
      ],
      "execution_count": 125,
      "outputs": [
        {
          "output_type": "execute_result",
          "data": {
            "text/plain": [
              "ID           0\n",
              "Nama         7\n",
              "Umur         0\n",
              "Gol (Rh)     0\n",
              "JK           0\n",
              "Frekuensi    0\n",
              "dtype: int64"
            ]
          },
          "metadata": {
            "tags": []
          },
          "execution_count": 125
        }
      ]
    },
    {
      "cell_type": "code",
      "metadata": {
        "id": "AYdiIubLsfGM"
      },
      "source": [
        "df.drop(['ID'], axis=1, inplace=True)"
      ],
      "execution_count": 126,
      "outputs": []
    },
    {
      "cell_type": "code",
      "metadata": {
        "colab": {
          "base_uri": "https://localhost:8080/",
          "height": 424
        },
        "id": "Srciy23ksief",
        "outputId": "94bb26e6-57a6-47e4-8e82-c5299d00e181"
      },
      "source": [
        "df"
      ],
      "execution_count": 127,
      "outputs": [
        {
          "output_type": "execute_result",
          "data": {
            "text/html": [
              "<div>\n",
              "<style scoped>\n",
              "    .dataframe tbody tr th:only-of-type {\n",
              "        vertical-align: middle;\n",
              "    }\n",
              "\n",
              "    .dataframe tbody tr th {\n",
              "        vertical-align: top;\n",
              "    }\n",
              "\n",
              "    .dataframe thead th {\n",
              "        text-align: right;\n",
              "    }\n",
              "</style>\n",
              "<table border=\"1\" class=\"dataframe\">\n",
              "  <thead>\n",
              "    <tr style=\"text-align: right;\">\n",
              "      <th></th>\n",
              "      <th>Nama</th>\n",
              "      <th>Umur</th>\n",
              "      <th>Gol (Rh)</th>\n",
              "      <th>JK</th>\n",
              "      <th>Frekuensi</th>\n",
              "    </tr>\n",
              "  </thead>\n",
              "  <tbody>\n",
              "    <tr>\n",
              "      <th>0</th>\n",
              "      <td>Rudi Wardani</td>\n",
              "      <td>48</td>\n",
              "      <td>A+</td>\n",
              "      <td>Pria</td>\n",
              "      <td>4</td>\n",
              "    </tr>\n",
              "    <tr>\n",
              "      <th>1</th>\n",
              "      <td>Muhammad Isya Maulana</td>\n",
              "      <td>41</td>\n",
              "      <td>O+</td>\n",
              "      <td>Pria</td>\n",
              "      <td>3</td>\n",
              "    </tr>\n",
              "    <tr>\n",
              "      <th>2</th>\n",
              "      <td>Rustandi</td>\n",
              "      <td>35</td>\n",
              "      <td>O+</td>\n",
              "      <td>Pria</td>\n",
              "      <td>10</td>\n",
              "    </tr>\n",
              "    <tr>\n",
              "      <th>3</th>\n",
              "      <td>Sarzuni</td>\n",
              "      <td>44</td>\n",
              "      <td>B+</td>\n",
              "      <td>Pria</td>\n",
              "      <td>3</td>\n",
              "    </tr>\n",
              "    <tr>\n",
              "      <th>4</th>\n",
              "      <td>Syihab Ahmad</td>\n",
              "      <td>30</td>\n",
              "      <td>AB+</td>\n",
              "      <td>Pria</td>\n",
              "      <td>20</td>\n",
              "    </tr>\n",
              "    <tr>\n",
              "      <th>...</th>\n",
              "      <td>...</td>\n",
              "      <td>...</td>\n",
              "      <td>...</td>\n",
              "      <td>...</td>\n",
              "      <td>...</td>\n",
              "    </tr>\n",
              "    <tr>\n",
              "      <th>25815</th>\n",
              "      <td>Armen</td>\n",
              "      <td>43</td>\n",
              "      <td>A+</td>\n",
              "      <td>Pria</td>\n",
              "      <td>2</td>\n",
              "    </tr>\n",
              "    <tr>\n",
              "      <th>25816</th>\n",
              "      <td>Apriyadi Riyanto</td>\n",
              "      <td>38</td>\n",
              "      <td>B+</td>\n",
              "      <td>Pria</td>\n",
              "      <td>5</td>\n",
              "    </tr>\n",
              "    <tr>\n",
              "      <th>25817</th>\n",
              "      <td>EMI SAFITRI</td>\n",
              "      <td>36</td>\n",
              "      <td>O+</td>\n",
              "      <td>Wanita</td>\n",
              "      <td>2</td>\n",
              "    </tr>\n",
              "    <tr>\n",
              "      <th>25818</th>\n",
              "      <td>RIDWAN</td>\n",
              "      <td>36</td>\n",
              "      <td>A+</td>\n",
              "      <td>Pria</td>\n",
              "      <td>1</td>\n",
              "    </tr>\n",
              "    <tr>\n",
              "      <th>25819</th>\n",
              "      <td>Supar</td>\n",
              "      <td>43</td>\n",
              "      <td>O+</td>\n",
              "      <td>Pria</td>\n",
              "      <td>17</td>\n",
              "    </tr>\n",
              "  </tbody>\n",
              "</table>\n",
              "<p>25820 rows × 5 columns</p>\n",
              "</div>"
            ],
            "text/plain": [
              "                        Nama  Umur Gol (Rh)      JK  Frekuensi\n",
              "0               Rudi Wardani    48       A+    Pria          4\n",
              "1      Muhammad Isya Maulana    41       O+    Pria          3\n",
              "2                   Rustandi    35       O+    Pria         10\n",
              "3                    Sarzuni    44       B+    Pria          3\n",
              "4               Syihab Ahmad    30      AB+    Pria         20\n",
              "...                      ...   ...      ...     ...        ...\n",
              "25815                  Armen    43       A+    Pria          2\n",
              "25816       Apriyadi Riyanto    38       B+    Pria          5\n",
              "25817            EMI SAFITRI    36       O+  Wanita          2\n",
              "25818                 RIDWAN    36       A+    Pria          1\n",
              "25819                  Supar    43       O+    Pria         17\n",
              "\n",
              "[25820 rows x 5 columns]"
            ]
          },
          "metadata": {
            "tags": []
          },
          "execution_count": 127
        }
      ]
    },
    {
      "cell_type": "code",
      "metadata": {
        "id": "-2eb_M6a5uJG"
      },
      "source": [
        "df.drop(['Nama'], axis=1, inplace=True)"
      ],
      "execution_count": 128,
      "outputs": []
    },
    {
      "cell_type": "code",
      "metadata": {
        "colab": {
          "base_uri": "https://localhost:8080/",
          "height": 424
        },
        "id": "x7MvWijs5abL",
        "outputId": "ce607439-59c2-4604-d18b-9ba3250f1cc2"
      },
      "source": [
        "df"
      ],
      "execution_count": 129,
      "outputs": [
        {
          "output_type": "execute_result",
          "data": {
            "text/html": [
              "<div>\n",
              "<style scoped>\n",
              "    .dataframe tbody tr th:only-of-type {\n",
              "        vertical-align: middle;\n",
              "    }\n",
              "\n",
              "    .dataframe tbody tr th {\n",
              "        vertical-align: top;\n",
              "    }\n",
              "\n",
              "    .dataframe thead th {\n",
              "        text-align: right;\n",
              "    }\n",
              "</style>\n",
              "<table border=\"1\" class=\"dataframe\">\n",
              "  <thead>\n",
              "    <tr style=\"text-align: right;\">\n",
              "      <th></th>\n",
              "      <th>Umur</th>\n",
              "      <th>Gol (Rh)</th>\n",
              "      <th>JK</th>\n",
              "      <th>Frekuensi</th>\n",
              "    </tr>\n",
              "  </thead>\n",
              "  <tbody>\n",
              "    <tr>\n",
              "      <th>0</th>\n",
              "      <td>48</td>\n",
              "      <td>A+</td>\n",
              "      <td>Pria</td>\n",
              "      <td>4</td>\n",
              "    </tr>\n",
              "    <tr>\n",
              "      <th>1</th>\n",
              "      <td>41</td>\n",
              "      <td>O+</td>\n",
              "      <td>Pria</td>\n",
              "      <td>3</td>\n",
              "    </tr>\n",
              "    <tr>\n",
              "      <th>2</th>\n",
              "      <td>35</td>\n",
              "      <td>O+</td>\n",
              "      <td>Pria</td>\n",
              "      <td>10</td>\n",
              "    </tr>\n",
              "    <tr>\n",
              "      <th>3</th>\n",
              "      <td>44</td>\n",
              "      <td>B+</td>\n",
              "      <td>Pria</td>\n",
              "      <td>3</td>\n",
              "    </tr>\n",
              "    <tr>\n",
              "      <th>4</th>\n",
              "      <td>30</td>\n",
              "      <td>AB+</td>\n",
              "      <td>Pria</td>\n",
              "      <td>20</td>\n",
              "    </tr>\n",
              "    <tr>\n",
              "      <th>...</th>\n",
              "      <td>...</td>\n",
              "      <td>...</td>\n",
              "      <td>...</td>\n",
              "      <td>...</td>\n",
              "    </tr>\n",
              "    <tr>\n",
              "      <th>25815</th>\n",
              "      <td>43</td>\n",
              "      <td>A+</td>\n",
              "      <td>Pria</td>\n",
              "      <td>2</td>\n",
              "    </tr>\n",
              "    <tr>\n",
              "      <th>25816</th>\n",
              "      <td>38</td>\n",
              "      <td>B+</td>\n",
              "      <td>Pria</td>\n",
              "      <td>5</td>\n",
              "    </tr>\n",
              "    <tr>\n",
              "      <th>25817</th>\n",
              "      <td>36</td>\n",
              "      <td>O+</td>\n",
              "      <td>Wanita</td>\n",
              "      <td>2</td>\n",
              "    </tr>\n",
              "    <tr>\n",
              "      <th>25818</th>\n",
              "      <td>36</td>\n",
              "      <td>A+</td>\n",
              "      <td>Pria</td>\n",
              "      <td>1</td>\n",
              "    </tr>\n",
              "    <tr>\n",
              "      <th>25819</th>\n",
              "      <td>43</td>\n",
              "      <td>O+</td>\n",
              "      <td>Pria</td>\n",
              "      <td>17</td>\n",
              "    </tr>\n",
              "  </tbody>\n",
              "</table>\n",
              "<p>25820 rows × 4 columns</p>\n",
              "</div>"
            ],
            "text/plain": [
              "       Umur Gol (Rh)      JK  Frekuensi\n",
              "0        48       A+    Pria          4\n",
              "1        41       O+    Pria          3\n",
              "2        35       O+    Pria         10\n",
              "3        44       B+    Pria          3\n",
              "4        30      AB+    Pria         20\n",
              "...     ...      ...     ...        ...\n",
              "25815    43       A+    Pria          2\n",
              "25816    38       B+    Pria          5\n",
              "25817    36       O+  Wanita          2\n",
              "25818    36       A+    Pria          1\n",
              "25819    43       O+    Pria         17\n",
              "\n",
              "[25820 rows x 4 columns]"
            ]
          },
          "metadata": {
            "tags": []
          },
          "execution_count": 129
        }
      ]
    },
    {
      "cell_type": "code",
      "metadata": {
        "id": "2Ge7h0zm29m3"
      },
      "source": [
        "df['JK'] = df['JK'].map({'Pria':1, 'Wanita':0})\r\n",
        "df['Gol (Rh)'] = df['Gol (Rh)'].map({'A+':0, 'A-':1, 'B+':2, 'B-':3, 'O+':4,'O-':5, 'AB+':6, 'AB-':7})"
      ],
      "execution_count": 130,
      "outputs": []
    },
    {
      "cell_type": "code",
      "metadata": {
        "colab": {
          "base_uri": "https://localhost:8080/",
          "height": 424
        },
        "id": "kZDHbWG66Z9g",
        "outputId": "7990e36f-56b5-4b93-9e48-533d2c7c5fd0"
      },
      "source": [
        "df"
      ],
      "execution_count": 131,
      "outputs": [
        {
          "output_type": "execute_result",
          "data": {
            "text/html": [
              "<div>\n",
              "<style scoped>\n",
              "    .dataframe tbody tr th:only-of-type {\n",
              "        vertical-align: middle;\n",
              "    }\n",
              "\n",
              "    .dataframe tbody tr th {\n",
              "        vertical-align: top;\n",
              "    }\n",
              "\n",
              "    .dataframe thead th {\n",
              "        text-align: right;\n",
              "    }\n",
              "</style>\n",
              "<table border=\"1\" class=\"dataframe\">\n",
              "  <thead>\n",
              "    <tr style=\"text-align: right;\">\n",
              "      <th></th>\n",
              "      <th>Umur</th>\n",
              "      <th>Gol (Rh)</th>\n",
              "      <th>JK</th>\n",
              "      <th>Frekuensi</th>\n",
              "    </tr>\n",
              "  </thead>\n",
              "  <tbody>\n",
              "    <tr>\n",
              "      <th>0</th>\n",
              "      <td>48</td>\n",
              "      <td>0</td>\n",
              "      <td>1</td>\n",
              "      <td>4</td>\n",
              "    </tr>\n",
              "    <tr>\n",
              "      <th>1</th>\n",
              "      <td>41</td>\n",
              "      <td>4</td>\n",
              "      <td>1</td>\n",
              "      <td>3</td>\n",
              "    </tr>\n",
              "    <tr>\n",
              "      <th>2</th>\n",
              "      <td>35</td>\n",
              "      <td>4</td>\n",
              "      <td>1</td>\n",
              "      <td>10</td>\n",
              "    </tr>\n",
              "    <tr>\n",
              "      <th>3</th>\n",
              "      <td>44</td>\n",
              "      <td>2</td>\n",
              "      <td>1</td>\n",
              "      <td>3</td>\n",
              "    </tr>\n",
              "    <tr>\n",
              "      <th>4</th>\n",
              "      <td>30</td>\n",
              "      <td>6</td>\n",
              "      <td>1</td>\n",
              "      <td>20</td>\n",
              "    </tr>\n",
              "    <tr>\n",
              "      <th>...</th>\n",
              "      <td>...</td>\n",
              "      <td>...</td>\n",
              "      <td>...</td>\n",
              "      <td>...</td>\n",
              "    </tr>\n",
              "    <tr>\n",
              "      <th>25815</th>\n",
              "      <td>43</td>\n",
              "      <td>0</td>\n",
              "      <td>1</td>\n",
              "      <td>2</td>\n",
              "    </tr>\n",
              "    <tr>\n",
              "      <th>25816</th>\n",
              "      <td>38</td>\n",
              "      <td>2</td>\n",
              "      <td>1</td>\n",
              "      <td>5</td>\n",
              "    </tr>\n",
              "    <tr>\n",
              "      <th>25817</th>\n",
              "      <td>36</td>\n",
              "      <td>4</td>\n",
              "      <td>0</td>\n",
              "      <td>2</td>\n",
              "    </tr>\n",
              "    <tr>\n",
              "      <th>25818</th>\n",
              "      <td>36</td>\n",
              "      <td>0</td>\n",
              "      <td>1</td>\n",
              "      <td>1</td>\n",
              "    </tr>\n",
              "    <tr>\n",
              "      <th>25819</th>\n",
              "      <td>43</td>\n",
              "      <td>4</td>\n",
              "      <td>1</td>\n",
              "      <td>17</td>\n",
              "    </tr>\n",
              "  </tbody>\n",
              "</table>\n",
              "<p>25820 rows × 4 columns</p>\n",
              "</div>"
            ],
            "text/plain": [
              "       Umur  Gol (Rh)  JK  Frekuensi\n",
              "0        48         0   1          4\n",
              "1        41         4   1          3\n",
              "2        35         4   1         10\n",
              "3        44         2   1          3\n",
              "4        30         6   1         20\n",
              "...     ...       ...  ..        ...\n",
              "25815    43         0   1          2\n",
              "25816    38         2   1          5\n",
              "25817    36         4   0          2\n",
              "25818    36         0   1          1\n",
              "25819    43         4   1         17\n",
              "\n",
              "[25820 rows x 4 columns]"
            ]
          },
          "metadata": {
            "tags": []
          },
          "execution_count": 131
        }
      ]
    },
    {
      "cell_type": "code",
      "metadata": {
        "colab": {
          "base_uri": "https://localhost:8080/",
          "height": 432
        },
        "id": "YFRh4JR_MJ56",
        "outputId": "5ee19348-bb42-4796-e679-6516711a8ce5"
      },
      "source": [
        "corrMatrix = df.corr()\r\n",
        "plt.figure(figsize=(10,7))\r\n",
        "sns.heatmap(corrMatrix, annot=True)\r\n",
        "plt.show()"
      ],
      "execution_count": 132,
      "outputs": [
        {
          "output_type": "display_data",
          "data": {
            "image/png": "[encoded data removed]",
            "text/plain": [
              "<Figure size 720x504 with 2 Axes>"
            ]
          },
          "metadata": {
            "tags": []
          }
        }
      ]
    },
    {
      "cell_type": "code",
      "metadata": {
        "colab": {
          "base_uri": "https://localhost:8080/",
          "height": 175
        },
        "id": "gZBhr9MlMUV8",
        "outputId": "35b97219-150e-4605-c972-fc4dcd97e9f8"
      },
      "source": [
        "df.corr()"
      ],
      "execution_count": 133,
      "outputs": [
        {
          "output_type": "execute_result",
          "data": {
            "text/html": [
              "<div>\n",
              "<style scoped>\n",
              "    .dataframe tbody tr th:only-of-type {\n",
              "        vertical-align: middle;\n",
              "    }\n",
              "\n",
              "    .dataframe tbody tr th {\n",
              "        vertical-align: top;\n",
              "    }\n",
              "\n",
              "    .dataframe thead th {\n",
              "        text-align: right;\n",
              "    }\n",
              "</style>\n",
              "<table border=\"1\" class=\"dataframe\">\n",
              "  <thead>\n",
              "    <tr style=\"text-align: right;\">\n",
              "      <th></th>\n",
              "      <th>Umur</th>\n",
              "      <th>Gol (Rh)</th>\n",
              "      <th>JK</th>\n",
              "      <th>Frekuensi</th>\n",
              "    </tr>\n",
              "  </thead>\n",
              "  <tbody>\n",
              "    <tr>\n",
              "      <th>Umur</th>\n",
              "      <td>1.000000</td>\n",
              "      <td>0.001139</td>\n",
              "      <td>0.046923</td>\n",
              "      <td>0.131481</td>\n",
              "    </tr>\n",
              "    <tr>\n",
              "      <th>Gol (Rh)</th>\n",
              "      <td>0.001139</td>\n",
              "      <td>1.000000</td>\n",
              "      <td>-0.015111</td>\n",
              "      <td>0.001578</td>\n",
              "    </tr>\n",
              "    <tr>\n",
              "      <th>JK</th>\n",
              "      <td>0.046923</td>\n",
              "      <td>-0.015111</td>\n",
              "      <td>1.000000</td>\n",
              "      <td>0.179141</td>\n",
              "    </tr>\n",
              "    <tr>\n",
              "      <th>Frekuensi</th>\n",
              "      <td>0.131481</td>\n",
              "      <td>0.001578</td>\n",
              "      <td>0.179141</td>\n",
              "      <td>1.000000</td>\n",
              "    </tr>\n",
              "  </tbody>\n",
              "</table>\n",
              "</div>"
            ],
            "text/plain": [
              "               Umur  Gol (Rh)        JK  Frekuensi\n",
              "Umur       1.000000  0.001139  0.046923   0.131481\n",
              "Gol (Rh)   0.001139  1.000000 -0.015111   0.001578\n",
              "JK         0.046923 -0.015111  1.000000   0.179141\n",
              "Frekuensi  0.131481  0.001578  0.179141   1.000000"
            ]
          },
          "metadata": {
            "tags": []
          },
          "execution_count": 133
        }
      ]
    },
    {
      "cell_type": "code",
      "metadata": {
        "colab": {
          "base_uri": "https://localhost:8080/",
          "height": 424
        },
        "id": "1T0hHgHhwDJx",
        "outputId": "1575392e-be54-43a8-d0af-f0ebe6448af7"
      },
      "source": [
        "x = df.drop([\"JK\"], axis = 1)\r\n",
        "x"
      ],
      "execution_count": 134,
      "outputs": [
        {
          "output_type": "execute_result",
          "data": {
            "text/html": [
              "<div>\n",
              "<style scoped>\n",
              "    .dataframe tbody tr th:only-of-type {\n",
              "        vertical-align: middle;\n",
              "    }\n",
              "\n",
              "    .dataframe tbody tr th {\n",
              "        vertical-align: top;\n",
              "    }\n",
              "\n",
              "    .dataframe thead th {\n",
              "        text-align: right;\n",
              "    }\n",
              "</style>\n",
              "<table border=\"1\" class=\"dataframe\">\n",
              "  <thead>\n",
              "    <tr style=\"text-align: right;\">\n",
              "      <th></th>\n",
              "      <th>Umur</th>\n",
              "      <th>Gol (Rh)</th>\n",
              "      <th>Frekuensi</th>\n",
              "    </tr>\n",
              "  </thead>\n",
              "  <tbody>\n",
              "    <tr>\n",
              "      <th>0</th>\n",
              "      <td>48</td>\n",
              "      <td>0</td>\n",
              "      <td>4</td>\n",
              "    </tr>\n",
              "    <tr>\n",
              "      <th>1</th>\n",
              "      <td>41</td>\n",
              "      <td>4</td>\n",
              "      <td>3</td>\n",
              "    </tr>\n",
              "    <tr>\n",
              "      <th>2</th>\n",
              "      <td>35</td>\n",
              "      <td>4</td>\n",
              "      <td>10</td>\n",
              "    </tr>\n",
              "    <tr>\n",
              "      <th>3</th>\n",
              "      <td>44</td>\n",
              "      <td>2</td>\n",
              "      <td>3</td>\n",
              "    </tr>\n",
              "    <tr>\n",
              "      <th>4</th>\n",
              "      <td>30</td>\n",
              "      <td>6</td>\n",
              "      <td>20</td>\n",
              "    </tr>\n",
              "    <tr>\n",
              "      <th>...</th>\n",
              "      <td>...</td>\n",
              "      <td>...</td>\n",
              "      <td>...</td>\n",
              "    </tr>\n",
              "    <tr>\n",
              "      <th>25815</th>\n",
              "      <td>43</td>\n",
              "      <td>0</td>\n",
              "      <td>2</td>\n",
              "    </tr>\n",
              "    <tr>\n",
              "      <th>25816</th>\n",
              "      <td>38</td>\n",
              "      <td>2</td>\n",
              "      <td>5</td>\n",
              "    </tr>\n",
              "    <tr>\n",
              "      <th>25817</th>\n",
              "      <td>36</td>\n",
              "      <td>4</td>\n",
              "      <td>2</td>\n",
              "    </tr>\n",
              "    <tr>\n",
              "      <th>25818</th>\n",
              "      <td>36</td>\n",
              "      <td>0</td>\n",
              "      <td>1</td>\n",
              "    </tr>\n",
              "    <tr>\n",
              "      <th>25819</th>\n",
              "      <td>43</td>\n",
              "      <td>4</td>\n",
              "      <td>17</td>\n",
              "    </tr>\n",
              "  </tbody>\n",
              "</table>\n",
              "<p>25820 rows × 3 columns</p>\n",
              "</div>"
            ],
            "text/plain": [
              "       Umur  Gol (Rh)  Frekuensi\n",
              "0        48         0          4\n",
              "1        41         4          3\n",
              "2        35         4         10\n",
              "3        44         2          3\n",
              "4        30         6         20\n",
              "...     ...       ...        ...\n",
              "25815    43         0          2\n",
              "25816    38         2          5\n",
              "25817    36         4          2\n",
              "25818    36         0          1\n",
              "25819    43         4         17\n",
              "\n",
              "[25820 rows x 3 columns]"
            ]
          },
          "metadata": {
            "tags": []
          },
          "execution_count": 134
        }
      ]
    },
    {
      "cell_type": "code",
      "metadata": {
        "colab": {
          "base_uri": "https://localhost:8080/"
        },
        "id": "NDXYSIO5wOT9",
        "outputId": "6198a4d3-d2c7-4b33-8347-593a381ee290"
      },
      "source": [
        "y = df[\"JK\"]\r\n",
        "y"
      ],
      "execution_count": 135,
      "outputs": [
        {
          "output_type": "execute_result",
          "data": {
            "text/plain": [
              "0        1\n",
              "1        1\n",
              "2        1\n",
              "3        1\n",
              "4        1\n",
              "        ..\n",
              "25815    1\n",
              "25816    1\n",
              "25817    0\n",
              "25818    1\n",
              "25819    1\n",
              "Name: JK, Length: 25820, dtype: int64"
            ]
          },
          "metadata": {
            "tags": []
          },
          "execution_count": 135
        }
      ]
    },
    {
      "cell_type": "markdown",
      "metadata": {
        "id": "DSqkROVTMd06"
      },
      "source": [
        "**Training**"
      ]
    },
    {
      "cell_type": "code",
      "metadata": {
        "colab": {
          "base_uri": "https://localhost:8080/"
        },
        "id": "VGnVSx17tYNh",
        "outputId": "ca8aa36b-0d04-4134-cb5e-f2cb70bfb6aa"
      },
      "source": [
        "# Set Training and Testing Data (70:30)\r\n",
        "from sklearn.model_selection import train_test_split, cross_val_score\r\n",
        "X_train, X_test, y_train, y_test  = train_test_split(x , y, shuffle = True, test_size=0.3, random_state=1)\r\n",
        "\r\n",
        "# Show the Training and Testing Data\r\n",
        "print(X_train.shape)\r\n",
        "print(X_test.shape)\r\n",
        "print(y_train.shape)\r\n",
        "print(y_test.shape)"
      ],
      "execution_count": 136,
      "outputs": [
        {
          "output_type": "stream",
          "text": [
            "(18074, 3)\n",
            "(7746, 3)\n",
            "(18074,)\n",
            "(7746,)\n"
          ],
          "name": "stdout"
        }
      ]
    },
    {
      "cell_type": "code",
      "metadata": {
        "id": "GDDaeo3yyQm2"
      },
      "source": [
        "# Import Module\r\n",
        "from sklearn.naive_bayes import GaussianNB \r\n",
        "from sklearn import metrics\r\n",
        "\r\n",
        "# Modeling Naive Bayes Classifier\r\n",
        "gnb = GaussianNB()\r\n",
        "gnb.fit(X_train, y_train)\r\n",
        "\r\n",
        "# Predict to Test Data\r\n",
        "y_pred_gnb= gnb.predict(X_test)"
      ],
      "execution_count": 139,
      "outputs": []
    },
    {
      "cell_type": "code",
      "metadata": {
        "colab": {
          "base_uri": "https://localhost:8080/"
        },
        "id": "BTMh1BUMyXof",
        "outputId": "b14fc214-2acc-44e4-f8eb-23e5f051c113"
      },
      "source": [
        "cm_gnb = metrics.confusion_matrix(y_test, y_pred_gnb)\r\n",
        "cm_gnb"
      ],
      "execution_count": 140,
      "outputs": [
        {
          "output_type": "execute_result",
          "data": {
            "text/plain": [
              "array([[   1, 1445],\n",
              "       [   3, 6297]])"
            ]
          },
          "metadata": {
            "tags": []
          },
          "execution_count": 140
        }
      ]
    },
    {
      "cell_type": "code",
      "metadata": {
        "colab": {
          "base_uri": "https://localhost:8080/"
        },
        "id": "c4-UHSln7pva",
        "outputId": "fd89ad1d-83d7-4938-d7de-c643deae40f2"
      },
      "source": [
        "# Show the Accuracy, Precision, Recall\r\n",
        "acc_gnb = metrics.accuracy_score(y_test, y_pred_gnb)\r\n",
        "prec_gnb = metrics.precision_score(y_test, y_pred_gnb)\r\n",
        "rec_gnb = metrics.recall_score(y_test, y_pred_gnb)\r\n",
        "f1_gnb = metrics.f1_score(y_test, y_pred_gnb)\r\n",
        "kappa_gnb = metrics.cohen_kappa_score(y_test, y_pred_gnb)\r\n",
        "\r\n",
        "print(\"Accuracy:\", acc_gnb)\r\n",
        "print(\"Precision:\", prec_gnb)\r\n",
        "print(\"Recall:\", rec_gnb)\r\n",
        "print(\"F1 Score:\", f1_gnb)\r\n",
        "print(\"Cohens Kappa Score:\", kappa_gnb)"
      ],
      "execution_count": 141,
      "outputs": [
        {
          "output_type": "stream",
          "text": [
            "Accuracy: 0.8130648076426543\n",
            "Precision: 0.8133557220356497\n",
            "Recall: 0.9995238095238095\n",
            "F1 Score: 0.8968807862127901\n",
            "Cohens Kappa Score: 0.0003497285058677857\n"
          ],
          "name": "stdout"
        }
      ]
    },
    {
      "cell_type": "code",
      "metadata": {
        "id": "Z3JaVB2M7wYv"
      },
      "source": [
        "from sklearn.neighbors import KNeighborsClassifier\r\n",
        "knn = KNeighborsClassifier(n_neighbors=5)\r\n",
        "knn.fit(X_train, y_train)"
      ],
      "execution_count": 143,
      "outputs": []
    },
    {
      "cell_type": "code",
      "metadata": {
        "colab": {
          "base_uri": "https://localhost:8080/"
        },
        "id": "H8_ea6jH78Qf",
        "outputId": "eacd4141-3f38-4738-93b5-07627e8165c4"
      },
      "source": [
        "from sklearn.metrics import accuracy_score,recall_score,confusion_matrix\r\n",
        "y_pred = knn.predict(X_test)\r\n",
        "print(len(X_test))\r\n",
        "print(accuracy_score(y_test,y_pred))\r\n",
        "print(recall_score(y_test,y_pred))\r\n",
        "print(confusion_matrix(y_test,y_pred))"
      ],
      "execution_count": 157,
      "outputs": [
        {
          "output_type": "stream",
          "text": [
            "7746\n",
            "0.7751097340562871\n",
            "0.9212698412698412\n",
            "[[ 200 1246]\n",
            " [ 496 5804]]\n"
          ],
          "name": "stdout"
        }
      ]
    }
  ]
}