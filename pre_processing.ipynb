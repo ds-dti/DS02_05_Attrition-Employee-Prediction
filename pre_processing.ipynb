{
  "nbformat": 4,
  "nbformat_minor": 0,
  "metadata": {
    "colab": {
      "name": "pre-processing.ipynb",
      "provenance": [],
      "authorship_tag": "ABX9TyNluHGZ5244/UtsBcqoJPR3",
      "include_colab_link": true
    },
    "kernelspec": {
      "name": "python3",
      "display_name": "Python 3"
    }
  },
  "cells": [
    {
      "cell_type": "markdown",
      "metadata": {
        "id": "view-in-github",
        "colab_type": "text"
      },
      "source": [
        "<a href=\"https://colab.research.google.com/github/usugunawan15/Tubes-DTI/blob/main/pre_processing.ipynb\" target=\"_parent\"><img src=\"https://colab.research.google.com/assets/colab-badge.svg\" alt=\"Open In Colab\"/></a>"
      ]
    },
    {
      "cell_type": "code",
      "metadata": {
        "id": "y1eyRLDuIc6y"
      },
      "source": [
        "# Import libraries\r\n",
        "import pandas as pd\r\n",
        "import numpy as np\r\n",
        "import warnings\r\n",
        "import seaborn as sns\r\n",
        "import matplotlib.pyplot as plt\r\n",
        "# Configure libraries\r\n",
        "warnings.filterwarnings('ignore')\r\n",
        "plt.rcParams['figure.figsize'] = (10, 10)\r\n",
        "plt.style.use('seaborn')"
      ],
      "execution_count": 5,
      "outputs": []
    },
    {
      "cell_type": "code",
      "metadata": {
        "colab": {
          "base_uri": "https://localhost:8080/",
          "height": 424
        },
        "id": "v37DH4tZI1Os",
        "outputId": "80fc063d-5c6c-4717-a572-cddc229b06bb"
      },
      "source": [
        "df = pd.read_csv('https://raw.githubusercontent.com/usugunawan15/Tubes-DTI/main/dataset_donor_darah.csv', sep = ';')\r\n",
        "df"
      ],
      "execution_count": 11,
      "outputs": [
        {
          "output_type": "execute_result",
          "data": {
            "text/html": [
              "<div>\n",
              "<style scoped>\n",
              "    .dataframe tbody tr th:only-of-type {\n",
              "        vertical-align: middle;\n",
              "    }\n",
              "\n",
              "    .dataframe tbody tr th {\n",
              "        vertical-align: top;\n",
              "    }\n",
              "\n",
              "    .dataframe thead th {\n",
              "        text-align: right;\n",
              "    }\n",
              "</style>\n",
              "<table border=\"1\" class=\"dataframe\">\n",
              "  <thead>\n",
              "    <tr style=\"text-align: right;\">\n",
              "      <th></th>\n",
              "      <th>No</th>\n",
              "      <th>ID</th>\n",
              "      <th>Nama</th>\n",
              "      <th>Umur</th>\n",
              "      <th>Gol (Rh)</th>\n",
              "      <th>JK</th>\n",
              "      <th>Frekuensi</th>\n",
              "    </tr>\n",
              "  </thead>\n",
              "  <tbody>\n",
              "    <tr>\n",
              "      <th>0</th>\n",
              "      <td>1</td>\n",
              "      <td>6171DGRUD000091</td>\n",
              "      <td>Rudi Wardani</td>\n",
              "      <td>48</td>\n",
              "      <td>A+</td>\n",
              "      <td>Pria</td>\n",
              "      <td>4</td>\n",
              "    </tr>\n",
              "    <tr>\n",
              "      <th>1</th>\n",
              "      <td>2</td>\n",
              "      <td>6171DGMUH000223</td>\n",
              "      <td>Muhammad Isya Maulana</td>\n",
              "      <td>41</td>\n",
              "      <td>O+</td>\n",
              "      <td>Pria</td>\n",
              "      <td>3</td>\n",
              "    </tr>\n",
              "    <tr>\n",
              "      <th>2</th>\n",
              "      <td>3</td>\n",
              "      <td>6171M1RUS000015</td>\n",
              "      <td>Rustandi</td>\n",
              "      <td>35</td>\n",
              "      <td>O+</td>\n",
              "      <td>Pria</td>\n",
              "      <td>10</td>\n",
              "    </tr>\n",
              "    <tr>\n",
              "      <th>3</th>\n",
              "      <td>4</td>\n",
              "      <td>6171DGSAR000059</td>\n",
              "      <td>Sarzuni</td>\n",
              "      <td>44</td>\n",
              "      <td>B+</td>\n",
              "      <td>Pria</td>\n",
              "      <td>3</td>\n",
              "    </tr>\n",
              "    <tr>\n",
              "      <th>4</th>\n",
              "      <td>5</td>\n",
              "      <td>6171DGSYI000009</td>\n",
              "      <td>Syihab Ahmad</td>\n",
              "      <td>30</td>\n",
              "      <td>AB+</td>\n",
              "      <td>Pria</td>\n",
              "      <td>20</td>\n",
              "    </tr>\n",
              "    <tr>\n",
              "      <th>...</th>\n",
              "      <td>...</td>\n",
              "      <td>...</td>\n",
              "      <td>...</td>\n",
              "      <td>...</td>\n",
              "      <td>...</td>\n",
              "      <td>...</td>\n",
              "      <td>...</td>\n",
              "    </tr>\n",
              "    <tr>\n",
              "      <th>25821</th>\n",
              "      <td>25822</td>\n",
              "      <td>6171DGARM000012</td>\n",
              "      <td>Armen</td>\n",
              "      <td>43</td>\n",
              "      <td>A+</td>\n",
              "      <td>Pria</td>\n",
              "      <td>2</td>\n",
              "    </tr>\n",
              "    <tr>\n",
              "      <th>25822</th>\n",
              "      <td>25823</td>\n",
              "      <td>6171DGAPR000026</td>\n",
              "      <td>Apriyadi Riyanto</td>\n",
              "      <td>38</td>\n",
              "      <td>B+</td>\n",
              "      <td>Pria</td>\n",
              "      <td>5</td>\n",
              "    </tr>\n",
              "    <tr>\n",
              "      <th>25823</th>\n",
              "      <td>25824</td>\n",
              "      <td>6171M2EMI000010</td>\n",
              "      <td>EMI SAFITRI</td>\n",
              "      <td>36</td>\n",
              "      <td>O+</td>\n",
              "      <td>Wanita</td>\n",
              "      <td>2</td>\n",
              "    </tr>\n",
              "    <tr>\n",
              "      <th>25824</th>\n",
              "      <td>25825</td>\n",
              "      <td>6171M3RID000005</td>\n",
              "      <td>RIDWAN</td>\n",
              "      <td>36</td>\n",
              "      <td>A+</td>\n",
              "      <td>Pria</td>\n",
              "      <td>1</td>\n",
              "    </tr>\n",
              "    <tr>\n",
              "      <th>25825</th>\n",
              "      <td>25826</td>\n",
              "      <td>6171M1SUP000013</td>\n",
              "      <td>Supar</td>\n",
              "      <td>43</td>\n",
              "      <td>O+</td>\n",
              "      <td>Pria</td>\n",
              "      <td>17</td>\n",
              "    </tr>\n",
              "  </tbody>\n",
              "</table>\n",
              "<p>25826 rows × 7 columns</p>\n",
              "</div>"
            ],
            "text/plain": [
              "          No               ID  ...      JK  Frekuensi\n",
              "0          1  6171DGRUD000091  ...    Pria          4\n",
              "1          2  6171DGMUH000223  ...    Pria          3\n",
              "2          3  6171M1RUS000015  ...    Pria         10\n",
              "3          4  6171DGSAR000059  ...    Pria          3\n",
              "4          5  6171DGSYI000009  ...    Pria         20\n",
              "...      ...              ...  ...     ...        ...\n",
              "25821  25822  6171DGARM000012  ...    Pria          2\n",
              "25822  25823  6171DGAPR000026  ...    Pria          5\n",
              "25823  25824  6171M2EMI000010  ...  Wanita          2\n",
              "25824  25825  6171M3RID000005  ...    Pria          1\n",
              "25825  25826  6171M1SUP000013  ...    Pria         17\n",
              "\n",
              "[25826 rows x 7 columns]"
            ]
          },
          "metadata": {
            "tags": []
          },
          "execution_count": 11
        }
      ]
    },
    {
      "cell_type": "code",
      "metadata": {
        "colab": {
          "base_uri": "https://localhost:8080/"
        },
        "id": "08FheIkIL630",
        "outputId": "feb9a294-de5e-426d-9111-4011e4f78068"
      },
      "source": [
        "df['Gol (Rh)'].value_counts()"
      ],
      "execution_count": 12,
      "outputs": [
        {
          "output_type": "execute_result",
          "data": {
            "text/plain": [
              "O+     10122\n",
              "B+      7425\n",
              "A+      6319\n",
              "AB+     1934\n",
              "X+         9\n",
              "A-         7\n",
              "O-         7\n",
              "AB-        2\n",
              "B-         1\n",
              "Name: Gol (Rh), dtype: int64"
            ]
          },
          "metadata": {
            "tags": []
          },
          "execution_count": 12
        }
      ]
    },
    {
      "cell_type": "code",
      "metadata": {
        "colab": {
          "base_uri": "https://localhost:8080/"
        },
        "id": "bhLLmAERMEoZ",
        "outputId": "6d97d450-2896-494a-dc7e-b11e97b8cb22"
      },
      "source": [
        "df.isnull().sum()"
      ],
      "execution_count": 13,
      "outputs": [
        {
          "output_type": "execute_result",
          "data": {
            "text/plain": [
              "No           0\n",
              "ID           2\n",
              "Nama         9\n",
              "Umur         0\n",
              "Gol (Rh)     0\n",
              "JK           0\n",
              "Frekuensi    0\n",
              "dtype: int64"
            ]
          },
          "metadata": {
            "tags": []
          },
          "execution_count": 13
        }
      ]
    },
    {
      "cell_type": "code",
      "metadata": {
        "colab": {
          "base_uri": "https://localhost:8080/"
        },
        "id": "YFRh4JR_MJ56",
        "outputId": "453575fc-7a81-4ad2-cb46-c2626824d0ef"
      },
      "source": [
        "df.columns"
      ],
      "execution_count": 15,
      "outputs": [
        {
          "output_type": "execute_result",
          "data": {
            "text/plain": [
              "Index(['No', 'ID', 'Nama', 'Umur', 'Gol (Rh)', 'JK', 'Frekuensi'], dtype='object')"
            ]
          },
          "metadata": {
            "tags": []
          },
          "execution_count": 15
        }
      ]
    },
    {
      "cell_type": "markdown",
      "metadata": {
        "id": "DSqkROVTMd06"
      },
      "source": [
        "**Training**"
      ]
    },
    {
      "cell_type": "code",
      "metadata": {
        "id": "gZBhr9MlMUV8"
      },
      "source": [
        ""
      ],
      "execution_count": null,
      "outputs": []
    }
  ]
}